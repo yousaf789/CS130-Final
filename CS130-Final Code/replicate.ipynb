{
 "cells": [
  {
   "attachments": {},
   "cell_type": "markdown",
   "metadata": {},
   "source": [
    "### Data Wrangling"
   ]
  },
  {
   "cell_type": "code",
   "execution_count": 1,
   "metadata": {
    "vscode": {
     "languageId": "r"
    }
   },
   "outputs": [],
   "source": [
    "# Clear the workspace\n",
    "rm(list = ls())\n",
    "\n",
    "# Load necessary packages\n",
    "library(reshape2)  # data manipulation"
   ]
  },
  {
   "cell_type": "code",
   "execution_count": 2,
   "metadata": {
    "vscode": {
     "languageId": "r"
    }
   },
   "outputs": [],
   "source": [
    "# Dependent variable:\n",
    "dep <- read.csv(\"homicide-rates.csv\", header = TRUE, skip = 1)\n",
    "\n",
    "dep.molten <- melt(dep,\n",
    "                   id.vars = c(\"Sigla\",\n",
    "                               \"Código\",\n",
    "                               \"Estado\")\n",
    "                    )\n",
    "\n",
    "colnames(dep.molten) <- c(\"abbreviation\",\n",
    "                          \"code\",\n",
    "                          \"state\",\n",
    "                          \"year\",\n",
    "                          \"homicide.rates\")\n",
    "\n",
    "dep.molten$year <- as.numeric(substring(dep.molten$year, 2))\n",
    "\n"
   ]
  },
  {
   "cell_type": "code",
   "execution_count": 3,
   "metadata": {
    "vscode": {
     "languageId": "r"
    }
   },
   "outputs": [],
   "source": [
    "# Independent variables\n",
    "ind1 <- read.csv(\"state-gdp-capita.csv\", header = TRUE, skip = 1)\n",
    "\n",
    "ind1.molten <- melt(ind1,\n",
    "                    id.vars = c(\"Sigla\",\n",
    "                                \"Código\",\n",
    "                                \"Estado\")\n",
    "                    )\n",
    "\n",
    "colnames(ind1.molten) <- c(\"abbreviation\",\n",
    "                           \"code\",\n",
    "                           \"state\",\n",
    "                           \"year\",\n",
    "                           \"state.gdp.capita\")\n",
    "\n",
    "ind1.molten$year <- as.numeric(substring(ind1.molten$year, 2))\n",
    "\n",
    "ind2 <- read.csv(\"state-gdp-growth-percentage.csv\", header = TRUE, skip = 1)\n",
    "\n",
    "ind2.molten <- melt(ind2,\n",
    "                    id.vars = c(\"Sigla\",\n",
    "                                \"Código\",\n",
    "                                \"Estado\")\n",
    "                    )\n",
    "\n",
    "colnames(ind2.molten) <- c(\"abbreviation\",\n",
    "                           \"code\",\n",
    "                           \"state\",\n",
    "                           \"year\",\n",
    "                           \"state.gdp.growth.percent\")\n",
    "\n",
    "ind2.molten$year <- as.numeric(substring(ind2.molten$year, 2))\n",
    "\n",
    "ind3 <- read.csv(\"gini.csv\", header = TRUE, skip = 1)\n",
    "\n",
    "ind3.molten <- melt(ind3,\n",
    "                    id.vars = c(\"Sigla\",\n",
    "                                \"Código\",\n",
    "                                \"Estado\")\n",
    "                    )\n",
    "\n",
    "colnames(ind3.molten) <- c(\"abbreviation\",\n",
    "                           \"code\",\n",
    "                           \"state\",\n",
    "                           \"year\",\n",
    "                           \"gini\")\n",
    "\n",
    "ind3.molten$year <- as.numeric(substring(ind3.molten$year, 2))\n",
    "\n",
    "ind4 <- read.csv(\"population-projection.csv\",\n",
    "                 header = TRUE,\n",
    "                 skip   = 1)\n",
    "\n",
    "ind4.molten <- melt(ind4,\n",
    "                    id.vars = c(\"Sigla\",\n",
    "                                \"Código\",\n",
    "                                \"Estado\")\n",
    "                    )\n",
    "\n",
    "colnames(ind4.molten) <- c(\"abbreviation\",\n",
    "                           \"code\",\n",
    "                           \"state\",\n",
    "                           \"year\",\n",
    "                           \"population.projection\")\n",
    "\n",
    "ind4.molten$year <- as.numeric(substring(ind4.molten$year, 2))\n",
    "\n",
    "ind5 <- read.csv(\"population-extreme-poverty.csv\", header = TRUE, skip = 1)\n",
    "\n",
    "ind5.molten <- melt(ind5,\n",
    "                    id.vars = c(\"Sigla\",\n",
    "                                \"Código\",\n",
    "                                \"Estado\")\n",
    "                    )\n",
    "\n",
    "colnames(ind5.molten) <- c(\"abbreviation\",\n",
    "                           \"code\",\n",
    "                           \"state\",\n",
    "                           \"year\",\n",
    "                           \"population.extreme.poverty\")\n",
    "\n",
    "ind5.molten$year <- as.numeric(substring(ind5.molten$year, 2))\n",
    "\n",
    "ind6 <- read.csv(\"years-schooling.csv\", header = TRUE, skip = 1)\n",
    "\n",
    "ind6.molten <- melt(ind6,\n",
    "                    id.vars = c(\"Sigla\",\n",
    "                                \"Código\",\n",
    "                                \"Estado\")\n",
    "                    )\n",
    "\n",
    "colnames(ind6.molten) <- c(\"abbreviation\",\n",
    "                           \"code\",\n",
    "                           \"state\",\n",
    "                           \"year\",\n",
    "                           \"years.schooling\")\n",
    "\n",
    "ind6.molten$year <- as.numeric(substring(ind6.molten$year, 2))\n"
   ]
  },
  {
   "cell_type": "code",
   "execution_count": 4,
   "metadata": {
    "vscode": {
     "languageId": "r"
    }
   },
   "outputs": [
    {
     "data": {
      "text/html": [
       "<style>\n",
       ".dl-inline {width: auto; margin:0; padding: 0}\n",
       ".dl-inline>dt, .dl-inline>dd {float: none; width: auto; display: inline-block}\n",
       ".dl-inline>dt::after {content: \":\\0020\"; padding-right: .5ex}\n",
       ".dl-inline>dt:not(:first-of-type) {padding-left: .5ex}\n",
       "</style><dl class=dl-inline><dt>abbreviation</dt><dd>0</dd><dt>code</dt><dd>0</dd><dt>state</dt><dd>0</dd><dt>year</dt><dd>0</dd><dt>homicide.rates</dt><dd>0</dd><dt>state.gdp.capita</dt><dd>0</dd><dt>state.gdp.growth.percent</dt><dd>0</dd><dt>gini</dt><dd>82</dd><dt>population.projection</dt><dd>0</dd><dt>population.extreme.poverty</dt><dd>82</dd><dt>years.schooling</dt><dd>82</dd></dl>\n"
      ],
      "text/latex": [
       "\\begin{description*}\n",
       "\\item[abbreviation] 0\n",
       "\\item[code] 0\n",
       "\\item[state] 0\n",
       "\\item[year] 0\n",
       "\\item[homicide.rates] 0\n",
       "\\item[state.gdp.capita] 0\n",
       "\\item[state.gdp.growth.percent] 0\n",
       "\\item[gini] 82\n",
       "\\item[population.projection] 0\n",
       "\\item[population.extreme.poverty] 82\n",
       "\\item[years.schooling] 82\n",
       "\\end{description*}\n"
      ],
      "text/markdown": [
       "abbreviation\n",
       ":   0code\n",
       ":   0state\n",
       ":   0year\n",
       ":   0homicide.rates\n",
       ":   0state.gdp.capita\n",
       ":   0state.gdp.growth.percent\n",
       ":   0gini\n",
       ":   82population.projection\n",
       ":   0population.extreme.poverty\n",
       ":   82years.schooling\n",
       ":   82\n",
       "\n"
      ],
      "text/plain": [
       "              abbreviation                       code \n",
       "                         0                          0 \n",
       "                     state                       year \n",
       "                         0                          0 \n",
       "            homicide.rates           state.gdp.capita \n",
       "                         0                          0 \n",
       "  state.gdp.growth.percent                       gini \n",
       "                         0                         82 \n",
       "     population.projection population.extreme.poverty \n",
       "                         0                         82 \n",
       "           years.schooling \n",
       "                        82 "
      ]
     },
     "metadata": {},
     "output_type": "display_data"
    },
    {
     "data": {
      "text/html": [
       "<style>\n",
       ".dl-inline {width: auto; margin:0; padding: 0}\n",
       ".dl-inline>dt, .dl-inline>dd {float: none; width: auto; display: inline-block}\n",
       ".dl-inline>dt::after {content: \":\\0020\"; padding-right: .5ex}\n",
       ".dl-inline>dt:not(:first-of-type) {padding-left: .5ex}\n",
       "</style><dl class=dl-inline><dt>abbreviation</dt><dd>0</dd><dt>code</dt><dd>0</dd><dt>state</dt><dd>0</dd><dt>year</dt><dd>0</dd><dt>homicide.rates</dt><dd>0</dd><dt>state.gdp.capita</dt><dd>0</dd><dt>state.gdp.growth.percent</dt><dd>0</dd><dt>gini</dt><dd>0.15</dd><dt>population.projection</dt><dd>0</dd><dt>population.extreme.poverty</dt><dd>0.15</dd><dt>years.schooling</dt><dd>0.15</dd></dl>\n"
      ],
      "text/latex": [
       "\\begin{description*}\n",
       "\\item[abbreviation] 0\n",
       "\\item[code] 0\n",
       "\\item[state] 0\n",
       "\\item[year] 0\n",
       "\\item[homicide.rates] 0\n",
       "\\item[state.gdp.capita] 0\n",
       "\\item[state.gdp.growth.percent] 0\n",
       "\\item[gini] 0.15\n",
       "\\item[population.projection] 0\n",
       "\\item[population.extreme.poverty] 0.15\n",
       "\\item[years.schooling] 0.15\n",
       "\\end{description*}\n"
      ],
      "text/markdown": [
       "abbreviation\n",
       ":   0code\n",
       ":   0state\n",
       ":   0year\n",
       ":   0homicide.rates\n",
       ":   0state.gdp.capita\n",
       ":   0state.gdp.growth.percent\n",
       ":   0gini\n",
       ":   0.15population.projection\n",
       ":   0population.extreme.poverty\n",
       ":   0.15years.schooling\n",
       ":   0.15\n",
       "\n"
      ],
      "text/plain": [
       "              abbreviation                       code \n",
       "                      0.00                       0.00 \n",
       "                     state                       year \n",
       "                      0.00                       0.00 \n",
       "            homicide.rates           state.gdp.capita \n",
       "                      0.00                       0.00 \n",
       "  state.gdp.growth.percent                       gini \n",
       "                      0.00                       0.15 \n",
       "     population.projection population.extreme.poverty \n",
       "                      0.00                       0.15 \n",
       "           years.schooling \n",
       "                      0.15 "
      ]
     },
     "metadata": {},
     "output_type": "display_data"
    }
   ],
   "source": [
    "# Merges files\n",
    "data.list <- list(dep.molten,\n",
    "                  ind1.molten,\n",
    "                  ind2.molten,\n",
    "                  ind3.molten,\n",
    "                  ind4.molten,\n",
    "                  ind5.molten,\n",
    "                  ind6.molten)\n",
    "\n",
    "data1 <- Reduce(function(...) merge(..., all = TRUE), data.list)\n",
    "\n",
    "# Subset and sort\n",
    "data2 <- subset(data1, year >= 1990 & year <= 2009)\n",
    "data2 <- data2[order(data2$state), ]\n",
    "rownames(data2) <- NULL\n",
    "\n",
    "# Count missing observations, calculate their percentage\n",
    "round(sapply(data2, function(x) length(which(is.na(x)))), 2)\n",
    "round(sapply(data2, function(x) length(which(is.na(x)))/length(x)), 2)"
   ]
  },
  {
   "attachments": {},
   "cell_type": "markdown",
   "metadata": {},
   "source": [
    "Combine the data into a single data frame uisng same column names and also including values without a match. data2 contains rows form years 1990 to 2009. Than we print out the the numebr of missing values and the percentage of missing values in the dataframe."
   ]
  },
  {
   "cell_type": "code",
   "execution_count": 5,
   "metadata": {
    "vscode": {
     "languageId": "r"
    }
   },
   "outputs": [],
   "source": [
    "# Linear imputation of missing values.\n",
    "data2$gini.imp <- approxfun(seq_along(data2$gini), data2$gini)(seq_along(data2$gini))\n",
    "data2$population.extreme.poverty.imp <- approxfun(seq_along(data2$population.extreme.poverty), data2$population.extreme.poverty)(seq_along(data2$population.extreme.poverty))\n",
    "data2$years.schooling.imp <- approxfun(seq_along(data2$years.schooling), data2$years.schooling)(seq_along(data2$years.schooling))"
   ]
  },
  {
   "attachments": {},
   "cell_type": "markdown",
   "metadata": {},
   "source": [
    "Here we are imputing the missing values for the columns gini, population.extreme.poverty, and years.schooling. \n",
    "\n",
    "The approxfun() function is used to create a linear approximation function for each variable, with the first argument being the sequence of data points along the variable axis, and the second argument being the actual variable values.\n",
    "\n",
    "The seq_along() function is used to generate a sequence of indices that correspond to the missing values for each variable, and these indices are used as input to the linear approximation function to impute the missing values.\n",
    "\n",
    "The resulting imputed values are assigned back to the data2 data frame as new columns with the suffix \".imp\" (e.g., gini.imp, population.extreme.poverty.imp, and years.schooling.imp)."
   ]
  },
  {
   "cell_type": "code",
   "execution_count": 6,
   "metadata": {
    "vscode": {
     "languageId": "r"
    }
   },
   "outputs": [],
   "source": [
    "# Create proportion.extreme.poverty\n",
    "data2$proportion.extreme.poverty <- data2$population.extreme.poverty.imp / data2$population.projection\n",
    "\n",
    "# Transform variables to improve interpretation\n",
    "data2$population.projection.ln <- log(data2$population.projection)\n",
    "\n",
    "# Save data as df.csv\n",
    "write.table(data2,\n",
    "            \"df.csv\",\n",
    "            row.names = FALSE,\n",
    "            col.names = TRUE,\n",
    "            sep       = \",\")"
   ]
  },
  {
   "attachments": {},
   "cell_type": "markdown",
   "metadata": {},
   "source": [
    "Here we are calculating the proprotion of population living in extreme poverty than we are transforming the population projection to logscale in order to make it easier to interpret and also making it useful for some statistical analysis later. Lastly we save it all to the new dataframe df.csv."
   ]
  },
  {
   "attachments": {},
   "cell_type": "markdown",
   "metadata": {},
   "source": [
    "### Data Analysis"
   ]
  },
  {
   "cell_type": "code",
   "execution_count": 7,
   "metadata": {
    "vscode": {
     "languageId": "r"
    }
   },
   "outputs": [
    {
     "name": "stderr",
     "output_type": "stream",
     "text": [
      "\n",
      "Attaching package: 'dplyr'\n",
      "\n",
      "\n",
      "The following objects are masked from 'package:stats':\n",
      "\n",
      "    filter, lag\n",
      "\n",
      "\n",
      "The following objects are masked from 'package:base':\n",
      "\n",
      "    intersect, setdiff, setequal, union\n",
      "\n",
      "\n",
      "##\n",
      "## Synth Package: Implements Synthetic Control Methods.\n",
      "\n",
      "\n",
      "## See http://www.mit.edu/~jhainm/software.htm for additional information.\n",
      "\n",
      "\n",
      "\n"
     ]
    }
   ],
   "source": [
    "# Clear the workspace\n",
    "rm(list = ls())\n",
    "\n",
    "# Load necessary packages\n",
    "library(dplyr) # data manipulation\n",
    "library(Synth) # models"
   ]
  },
  {
   "cell_type": "code",
   "execution_count": 8,
   "metadata": {
    "vscode": {
     "languageId": "r"
    }
   },
   "outputs": [
    {
     "data": {
      "text/html": [
       "<table class=\"dataframe\">\n",
       "<caption>A data.frame: 6 × 16</caption>\n",
       "<thead>\n",
       "\t<tr><th></th><th scope=col>abbreviation</th><th scope=col>code</th><th scope=col>state</th><th scope=col>year</th><th scope=col>homicide.rates</th><th scope=col>state.gdp.capita</th><th scope=col>state.gdp.growth.percent</th><th scope=col>gini</th><th scope=col>population.projection</th><th scope=col>population.extreme.poverty</th><th scope=col>years.schooling</th><th scope=col>gini.imp</th><th scope=col>population.extreme.poverty.imp</th><th scope=col>years.schooling.imp</th><th scope=col>proportion.extreme.poverty</th><th scope=col>population.projection.ln</th></tr>\n",
       "\t<tr><th></th><th scope=col>&lt;chr&gt;</th><th scope=col>&lt;int&gt;</th><th scope=col>&lt;chr&gt;</th><th scope=col>&lt;int&gt;</th><th scope=col>&lt;dbl&gt;</th><th scope=col>&lt;dbl&gt;</th><th scope=col>&lt;dbl&gt;</th><th scope=col>&lt;dbl&gt;</th><th scope=col>&lt;int&gt;</th><th scope=col>&lt;int&gt;</th><th scope=col>&lt;dbl&gt;</th><th scope=col>&lt;dbl&gt;</th><th scope=col>&lt;dbl&gt;</th><th scope=col>&lt;dbl&gt;</th><th scope=col>&lt;dbl&gt;</th><th scope=col>&lt;dbl&gt;</th></tr>\n",
       "</thead>\n",
       "<tbody>\n",
       "\t<tr><th scope=row>1</th><td>AC</td><td>12</td><td>Acre</td><td>1990</td><td>15.75288</td><td>8.504651</td><td>3.680272</td><td>0.5443582</td><td>413495</td><td>48965</td><td>4.806932</td><td>0.5443582</td><td>48965.0</td><td>4.806932</td><td>0.11841739</td><td>12.93240</td></tr>\n",
       "\t<tr><th scope=row>2</th><td>AC</td><td>12</td><td>Acre</td><td>1991</td><td>25.13658</td><td>8.723272</td><td>4.948625</td><td>       NA</td><td>422341</td><td>   NA</td><td>      NA</td><td>0.5519728</td><td>54937.5</td><td>5.497757</td><td>0.13007854</td><td>12.95357</td></tr>\n",
       "\t<tr><th scope=row>3</th><td>AC</td><td>12</td><td>Acre</td><td>1992</td><td>24.66935</td><td>8.575808</td><td>2.903720</td><td>0.5595874</td><td>438834</td><td>60910</td><td>6.188582</td><td>0.5595874</td><td>60910.0</td><td>6.188582</td><td>0.13879964</td><td>12.99188</td></tr>\n",
       "\t<tr><th scope=row>4</th><td>AC</td><td>12</td><td>Acre</td><td>1993</td><td>26.05720</td><td>8.591944</td><td>3.301005</td><td>0.5532199</td><td>455233</td><td>57492</td><td>5.585392</td><td>0.5532199</td><td>57492.0</td><td>5.585392</td><td>0.12629137</td><td>13.02856</td></tr>\n",
       "\t<tr><th scope=row>5</th><td>AC</td><td>12</td><td>Acre</td><td>1994</td><td>19.71004</td><td>8.473742</td><td>1.566072</td><td>       NA</td><td>471677</td><td>   NA</td><td>      NA</td><td>0.5677723</td><td>48075.5</td><td>5.713217</td><td>0.10192462</td><td>13.06405</td></tr>\n",
       "\t<tr><th scope=row>6</th><td>AC</td><td>12</td><td>Acre</td><td>1995</td><td>22.62478</td><td>8.577749</td><td>4.131693</td><td>0.5823248</td><td>488112</td><td>38659</td><td>5.841043</td><td>0.5823248</td><td>38659.0</td><td>5.841043</td><td>0.07920108</td><td>13.09830</td></tr>\n",
       "</tbody>\n",
       "</table>\n"
      ],
      "text/latex": [
       "A data.frame: 6 × 16\n",
       "\\begin{tabular}{r|llllllllllllllll}\n",
       "  & abbreviation & code & state & year & homicide.rates & state.gdp.capita & state.gdp.growth.percent & gini & population.projection & population.extreme.poverty & years.schooling & gini.imp & population.extreme.poverty.imp & years.schooling.imp & proportion.extreme.poverty & population.projection.ln\\\\\n",
       "  & <chr> & <int> & <chr> & <int> & <dbl> & <dbl> & <dbl> & <dbl> & <int> & <int> & <dbl> & <dbl> & <dbl> & <dbl> & <dbl> & <dbl>\\\\\n",
       "\\hline\n",
       "\t1 & AC & 12 & Acre & 1990 & 15.75288 & 8.504651 & 3.680272 & 0.5443582 & 413495 & 48965 & 4.806932 & 0.5443582 & 48965.0 & 4.806932 & 0.11841739 & 12.93240\\\\\n",
       "\t2 & AC & 12 & Acre & 1991 & 25.13658 & 8.723272 & 4.948625 &        NA & 422341 &    NA &       NA & 0.5519728 & 54937.5 & 5.497757 & 0.13007854 & 12.95357\\\\\n",
       "\t3 & AC & 12 & Acre & 1992 & 24.66935 & 8.575808 & 2.903720 & 0.5595874 & 438834 & 60910 & 6.188582 & 0.5595874 & 60910.0 & 6.188582 & 0.13879964 & 12.99188\\\\\n",
       "\t4 & AC & 12 & Acre & 1993 & 26.05720 & 8.591944 & 3.301005 & 0.5532199 & 455233 & 57492 & 5.585392 & 0.5532199 & 57492.0 & 5.585392 & 0.12629137 & 13.02856\\\\\n",
       "\t5 & AC & 12 & Acre & 1994 & 19.71004 & 8.473742 & 1.566072 &        NA & 471677 &    NA &       NA & 0.5677723 & 48075.5 & 5.713217 & 0.10192462 & 13.06405\\\\\n",
       "\t6 & AC & 12 & Acre & 1995 & 22.62478 & 8.577749 & 4.131693 & 0.5823248 & 488112 & 38659 & 5.841043 & 0.5823248 & 38659.0 & 5.841043 & 0.07920108 & 13.09830\\\\\n",
       "\\end{tabular}\n"
      ],
      "text/markdown": [
       "\n",
       "A data.frame: 6 × 16\n",
       "\n",
       "| <!--/--> | abbreviation &lt;chr&gt; | code &lt;int&gt; | state &lt;chr&gt; | year &lt;int&gt; | homicide.rates &lt;dbl&gt; | state.gdp.capita &lt;dbl&gt; | state.gdp.growth.percent &lt;dbl&gt; | gini &lt;dbl&gt; | population.projection &lt;int&gt; | population.extreme.poverty &lt;int&gt; | years.schooling &lt;dbl&gt; | gini.imp &lt;dbl&gt; | population.extreme.poverty.imp &lt;dbl&gt; | years.schooling.imp &lt;dbl&gt; | proportion.extreme.poverty &lt;dbl&gt; | population.projection.ln &lt;dbl&gt; |\n",
       "|---|---|---|---|---|---|---|---|---|---|---|---|---|---|---|---|---|\n",
       "| 1 | AC | 12 | Acre | 1990 | 15.75288 | 8.504651 | 3.680272 | 0.5443582 | 413495 | 48965 | 4.806932 | 0.5443582 | 48965.0 | 4.806932 | 0.11841739 | 12.93240 |\n",
       "| 2 | AC | 12 | Acre | 1991 | 25.13658 | 8.723272 | 4.948625 |        NA | 422341 |    NA |       NA | 0.5519728 | 54937.5 | 5.497757 | 0.13007854 | 12.95357 |\n",
       "| 3 | AC | 12 | Acre | 1992 | 24.66935 | 8.575808 | 2.903720 | 0.5595874 | 438834 | 60910 | 6.188582 | 0.5595874 | 60910.0 | 6.188582 | 0.13879964 | 12.99188 |\n",
       "| 4 | AC | 12 | Acre | 1993 | 26.05720 | 8.591944 | 3.301005 | 0.5532199 | 455233 | 57492 | 5.585392 | 0.5532199 | 57492.0 | 5.585392 | 0.12629137 | 13.02856 |\n",
       "| 5 | AC | 12 | Acre | 1994 | 19.71004 | 8.473742 | 1.566072 |        NA | 471677 |    NA |       NA | 0.5677723 | 48075.5 | 5.713217 | 0.10192462 | 13.06405 |\n",
       "| 6 | AC | 12 | Acre | 1995 | 22.62478 | 8.577749 | 4.131693 | 0.5823248 | 488112 | 38659 | 5.841043 | 0.5823248 | 38659.0 | 5.841043 | 0.07920108 | 13.09830 |\n",
       "\n"
      ],
      "text/plain": [
       "  abbreviation code state year homicide.rates state.gdp.capita\n",
       "1 AC           12   Acre  1990 15.75288       8.504651        \n",
       "2 AC           12   Acre  1991 25.13658       8.723272        \n",
       "3 AC           12   Acre  1992 24.66935       8.575808        \n",
       "4 AC           12   Acre  1993 26.05720       8.591944        \n",
       "5 AC           12   Acre  1994 19.71004       8.473742        \n",
       "6 AC           12   Acre  1995 22.62478       8.577749        \n",
       "  state.gdp.growth.percent gini      population.projection\n",
       "1 3.680272                 0.5443582 413495               \n",
       "2 4.948625                        NA 422341               \n",
       "3 2.903720                 0.5595874 438834               \n",
       "4 3.301005                 0.5532199 455233               \n",
       "5 1.566072                        NA 471677               \n",
       "6 4.131693                 0.5823248 488112               \n",
       "  population.extreme.poverty years.schooling gini.imp \n",
       "1 48965                      4.806932        0.5443582\n",
       "2    NA                            NA        0.5519728\n",
       "3 60910                      6.188582        0.5595874\n",
       "4 57492                      5.585392        0.5532199\n",
       "5    NA                            NA        0.5677723\n",
       "6 38659                      5.841043        0.5823248\n",
       "  population.extreme.poverty.imp years.schooling.imp proportion.extreme.poverty\n",
       "1 48965.0                        4.806932            0.11841739                \n",
       "2 54937.5                        5.497757            0.13007854                \n",
       "3 60910.0                        6.188582            0.13879964                \n",
       "4 57492.0                        5.585392            0.12629137                \n",
       "5 48075.5                        5.713217            0.10192462                \n",
       "6 38659.0                        5.841043            0.07920108                \n",
       "  population.projection.ln\n",
       "1 12.93240                \n",
       "2 12.95357                \n",
       "3 12.99188                \n",
       "4 13.02856                \n",
       "5 13.06405                \n",
       "6 13.09830                "
      ]
     },
     "metadata": {},
     "output_type": "display_data"
    }
   ],
   "source": [
    "df <- read.csv(\"df.csv\", header = TRUE)\n",
    "head(df)"
   ]
  },
  {
   "cell_type": "code",
   "execution_count": 9,
   "metadata": {
    "vscode": {
     "languageId": "r"
    }
   },
   "outputs": [],
   "source": [
    "# Load data\n",
    "df <- read.csv(\"df.csv\", header = TRUE)\n",
    "\n",
    "# Prepare dataset\n",
    "df$state <- as.character(df$state) # required by dataprep()\n"
   ]
  },
  {
   "cell_type": "code",
   "execution_count": 10,
   "metadata": {
    "vscode": {
     "languageId": "r"
    }
   },
   "outputs": [],
   "source": [
    "# Plot: Homicide rates for Sao Paulo and Brazil (average)\n",
    "df1 <- df %>%\n",
    "        mutate(homicide.sp = ifelse(homicide.rates & state == \"São Paulo\", homicide.rates, NA)) %>%\n",
    "        select(year, homicide.sp)\n",
    "\n",
    "df2 <- df %>%\n",
    "        mutate(homicide.rates1 = ifelse(homicide.rates & state != \"São Paulo\", homicide.rates, NA)) %>%\n",
    "        group_by(year) %>%\n",
    "        summarise(homicide.br = mean(homicide.rates1, na.rm = TRUE))\n",
    "\n",
    "\n"
   ]
  },
  {
   "attachments": {},
   "cell_type": "markdown",
   "metadata": {},
   "source": [
    "Creating two data framnes. df1 holds homicide rate per year infor for Sao Paulo and df2 holds homicide rate per year infor for all states beside Sao Paulo. Taking the avergae of teh homicide rates in df2 gives us an estimate of teh homicde rate for Brazil."
   ]
  },
  {
   "cell_type": "code",
   "execution_count": 11,
   "metadata": {
    "vscode": {
     "languageId": "r"
    }
   },
   "outputs": [
    {
     "data": {
      "text/html": [
       "<table class=\"dataframe\">\n",
       "<caption>A tibble: 6 × 2</caption>\n",
       "<thead>\n",
       "\t<tr><th scope=col>year</th><th scope=col>homicide.br</th></tr>\n",
       "\t<tr><th scope=col>&lt;int&gt;</th><th scope=col>&lt;dbl&gt;</th></tr>\n",
       "</thead>\n",
       "<tbody>\n",
       "\t<tr><td>1990</td><td>20.90104</td></tr>\n",
       "\t<tr><td>1991</td><td>20.28838</td></tr>\n",
       "\t<tr><td>1992</td><td>19.14512</td></tr>\n",
       "\t<tr><td>1993</td><td>19.56729</td></tr>\n",
       "\t<tr><td>1994</td><td>20.05278</td></tr>\n",
       "\t<tr><td>1995</td><td>21.55432</td></tr>\n",
       "</tbody>\n",
       "</table>\n"
      ],
      "text/latex": [
       "A tibble: 6 × 2\n",
       "\\begin{tabular}{ll}\n",
       " year & homicide.br\\\\\n",
       " <int> & <dbl>\\\\\n",
       "\\hline\n",
       "\t 1990 & 20.90104\\\\\n",
       "\t 1991 & 20.28838\\\\\n",
       "\t 1992 & 19.14512\\\\\n",
       "\t 1993 & 19.56729\\\\\n",
       "\t 1994 & 20.05278\\\\\n",
       "\t 1995 & 21.55432\\\\\n",
       "\\end{tabular}\n"
      ],
      "text/markdown": [
       "\n",
       "A tibble: 6 × 2\n",
       "\n",
       "| year &lt;int&gt; | homicide.br &lt;dbl&gt; |\n",
       "|---|---|\n",
       "| 1990 | 20.90104 |\n",
       "| 1991 | 20.28838 |\n",
       "| 1992 | 19.14512 |\n",
       "| 1993 | 19.56729 |\n",
       "| 1994 | 20.05278 |\n",
       "| 1995 | 21.55432 |\n",
       "\n"
      ],
      "text/plain": [
       "  year homicide.br\n",
       "1 1990 20.90104   \n",
       "2 1991 20.28838   \n",
       "3 1992 19.14512   \n",
       "4 1993 19.56729   \n",
       "5 1994 20.05278   \n",
       "6 1995 21.55432   "
      ]
     },
     "metadata": {},
     "output_type": "display_data"
    }
   ],
   "source": [
    "head(df2)"
   ]
  },
  {
   "cell_type": "code",
   "execution_count": 12,
   "metadata": {
    "vscode": {
     "languageId": "r"
    }
   },
   "outputs": [
    {
     "data": {
      "image/png": "[encoded data removed]",
      "text/plain": [
       "plot without title"
      ]
     },
     "metadata": {
      "image/png": {
       "height": 420,
       "width": 420
      }
     },
     "output_type": "display_data"
    }
   ],
   "source": [
    "plot(x = df1$year,\n",
    "     y = df1$homicide.sp,\n",
    "     type = \"l\",\n",
    "     ylim = c(0, 60),\n",
    "     xlim = c(1990, 2009),\n",
    "     xlab = \"Year\",\n",
    "     ylab = \"Homicide Rates\",\n",
    "     cex = 3,\n",
    "     lwd = 2,\n",
    "     xaxs = \"i\",\n",
    "     yaxs = \"i\"\n",
    ")\n",
    "\n",
    "lines(df2$year,\n",
    "      df2$homicide.br,\n",
    "      lty = 2,\n",
    "      cex = 3,\n",
    "      lwd = 2)\n",
    "\n",
    "arrows(1997, 50, 1999, 50,\n",
    "       col    = \"black\",\n",
    "       length = .1)\n",
    "\n",
    "text(1995, 50,\n",
    "     \"Policy Change\",\n",
    "     cex = .8)\n",
    "\n",
    "abline(v   = 1999,\n",
    "       lty = 2)\n",
    "\n",
    "legend(x = \"bottomleft\",\n",
    "       legend = c(\"São Paulo\",\n",
    "                  \"Brazil (average)\"),\n",
    "       lty    = c(\"solid\", \"dashed\"),\n",
    "       cex    = .8,\n",
    "       bg     = \"white\",\n",
    "       lwdc(2, 2)\n",
    ")\n"
   ]
  },
  {
   "attachments": {},
   "cell_type": "markdown",
   "metadata": {},
   "source": [
    "Plot to visualize homicide rates for Sao Paulo and our frankenstien brazil over the years with a dashed verticle line showing the year of policy change."
   ]
  },
  {
   "cell_type": "code",
   "execution_count": 13,
   "metadata": {
    "vscode": {
     "languageId": "r"
    }
   },
   "outputs": [],
   "source": [
    "# Prepare data for synth\n",
    "dataprep.out <-\n",
    "        dataprep(df,\n",
    "                 predictors = c(\"state.gdp.capita\",\n",
    "                                \"state.gdp.growth.percent\",\n",
    "                                \"population.projection.ln\",\n",
    "                                \"years.schooling.imp\"\n",
    "                                ),\n",
    "                 special.predictors = list(\n",
    "                         list(\"homicide.rates\", 1990:1998, \"mean\"),\n",
    "                         list(\"proportion.extreme.poverty\", 1990:1998, \"mean\"),\n",
    "                         list(\"gini.imp\", 1990:1998, \"mean\")\n",
    "                         ),\n",
    "                 predictors.op = \"mean\",\n",
    "                 dependent     = \"homicide.rates\",\n",
    "                 unit.variable = \"code\",\n",
    "                 time.variable = \"year\",\n",
    "                 unit.names.variable   = \"state\",\n",
    "                 treatment.identifier  = 35,\n",
    "                 controls.identifier   = c(11:17, 21:27, 31:33, 41:43, 50:53),\n",
    "                 time.predictors.prior = c(1990:1998),\n",
    "                 time.optimize.ssr     = c(1990:1998),\n",
    "                 time.plot             = c(1990:2009)\n",
    "                 )"
   ]
  },
  {
   "cell_type": "code",
   "execution_count": 14,
   "metadata": {
    "vscode": {
     "languageId": "r"
    }
   },
   "outputs": [
    {
     "name": "stdout",
     "output_type": "stream",
     "text": [
      "\n",
      "X1, X0, Z1, Z0 all come directly from dataprep object.\n",
      "\n",
      "\n",
      "**************** \n",
      " searching for synthetic control unit  \n",
      " \n",
      "\n",
      "**************** \n",
      "**************** \n",
      "**************** \n",
      "\n",
      "MSPE (LOSS V): 2.660544 \n",
      "\n",
      "solution.v:\n",
      " 0.2752884 8.00985e-05 0.0006707994 0.4687482 0.2411453 0.008954685 0.005112477 \n",
      "\n",
      "solution.w:\n",
      " 1.59427e-05 1.04959e-05 1.19579e-05 0.1367322 1.12166e-05 2.60626e-05 3.83051e-05 0.0001724405 4.13242e-05 4.2473e-05 2.87778e-05 2.45509e-05 0.0006475294 5.92964e-05 8.7124e-06 0.208757 0.1690749 2.58467e-05 0.2739272 1.98343e-05 6.8578e-06 1.06507e-05 9.9014e-06 0.2102964 \n",
      "\n",
      "$tab.pred\n",
      "                                             Treated Synthetic Sample Mean\n",
      "state.gdp.capita                              23.285    23.079      11.830\n",
      "state.gdp.growth.percent                       1.330     2.585       3.528\n",
      "population.projection.ln                      17.335    14.838      14.867\n",
      "years.schooling.imp                            6.089     6.110       4.963\n",
      "special.homicide.rates.1990.1998              32.672    32.479      21.843\n",
      "special.proportion.extreme.poverty.1990.1998   0.054     0.082       0.185\n",
      "special.gini.imp.1990.1998                     0.536     0.561       0.578\n",
      "\n",
      "$tab.v\n",
      "                                             v.weights\n",
      "state.gdp.capita                             0.275    \n",
      "state.gdp.growth.percent                     0        \n",
      "population.projection.ln                     0.001    \n",
      "years.schooling.imp                          0.469    \n",
      "special.homicide.rates.1990.1998             0.241    \n",
      "special.proportion.extreme.poverty.1990.1998 0.009    \n",
      "special.gini.imp.1990.1998                   0.005    \n",
      "\n",
      "$tab.w\n",
      "   w.weights          unit.names unit.numbers\n",
      "11     0.000            Rondônia           11\n",
      "12     0.000                Acre           12\n",
      "13     0.000            Amazonas           13\n",
      "14     0.137             Roraima           14\n",
      "15     0.000                Pará           15\n",
      "16     0.000               Amapá           16\n",
      "17     0.000           Tocantins           17\n",
      "21     0.000            Maranhão           21\n",
      "22     0.000               Piauí           22\n",
      "23     0.000               Ceará           23\n",
      "24     0.000 Rio Grande do Norte           24\n",
      "25     0.000             Paraíba           25\n",
      "26     0.001          Pernambuco           26\n",
      "27     0.000             Alagoas           27\n",
      "31     0.000        Minas Gerais           31\n",
      "32     0.209      Espírito Santo           32\n",
      "33     0.169      Rio de Janeiro           33\n",
      "41     0.000              Paraná           41\n",
      "42     0.274      Santa Catarina           42\n",
      "43     0.000   Rio Grande do Sul           43\n",
      "50     0.000  Mato Grosso do Sul           50\n",
      "51     0.000         Mato Grosso           51\n",
      "52     0.000               Goiás           52\n",
      "53     0.210    Distrito Federal           53\n",
      "\n",
      "$tab.loss\n",
      "          Loss W   Loss V\n",
      "[1,] 0.007396694 2.660544\n",
      "\n"
     ]
    }
   ],
   "source": [
    "# Run synth\n",
    "synth.out <- synth(dataprep.out)\n",
    "\n",
    "# Get result tables\n",
    "print(synth.tables   <- synth.tab(\n",
    "        dataprep.res = dataprep.out,\n",
    "        synth.res    = synth.out)\n",
    "      )"
   ]
  },
  {
   "cell_type": "code",
   "execution_count": 15,
   "metadata": {
    "vscode": {
     "languageId": "r"
    }
   },
   "outputs": [
    {
     "data": {
      "image/png": "[encoded data removed]",
      "text/plain": [
       "Plot with title \"NA\""
      ]
     },
     "metadata": {
      "image/png": {
       "height": 420,
       "width": 420
      }
     },
     "output_type": "display_data"
    }
   ],
   "source": [
    "path.plot(synth.res    = synth.out,\n",
    "          dataprep.res = dataprep.out,\n",
    "          Ylab         = c(\"Homicide Rates\"),\n",
    "          Xlab         = c(\"Year\"),\n",
    "          Legend       = c(\"São Paulo\",\"Synthetic São Paulo\"),\n",
    "          Legend.position = c(\"bottomleft\")\n",
    ")\n",
    "\n",
    "abline(v   = 1999,\n",
    "       lty = 2)\n",
    "\n",
    "arrows(1997, 50, 1999, 50,\n",
    "       col    = \"black\",\n",
    "       length = .1)\n",
    "\n",
    "text(1995, 50,\n",
    "     \"Policy Change\",\n",
    "     cex = .8)\n"
   ]
  },
  {
   "cell_type": "code",
   "execution_count": 16,
   "metadata": {
    "vscode": {
     "languageId": "r"
    }
   },
   "outputs": [
    {
     "data": {
      "image/png": "[encoded data removed]",
      "text/plain": [
       "Plot with title \"\""
      ]
     },
     "metadata": {
      "image/png": {
       "height": 420,
       "width": 420
      }
     },
     "output_type": "display_data"
    }
   ],
   "source": [
    "gaps.plot(synth.res    = synth.out,\n",
    "          dataprep.res = dataprep.out,\n",
    "          Ylab         = c(\"Gap in Homicide Rates\"),\n",
    "          Xlab         = c(\"Year\"),\n",
    "          Ylim         = c(-30, 30),\n",
    "          Main         = \"\"\n",
    ")\n",
    "\n",
    "abline(v   = 1999,\n",
    "       lty = 2)\n",
    "\n",
    "arrows(1997, 20, 1999, 20,\n",
    "       col    = \"black\",\n",
    "       length = .1)\n",
    "\n",
    "text(1995, 20,\n",
    "     \"Policy Change\",\n",
    "     cex = .8)\n"
   ]
  },
  {
   "cell_type": "code",
   "execution_count": 17,
   "metadata": {
    "vscode": {
     "languageId": "r"
    }
   },
   "outputs": [
    {
     "data": {
      "text/html": [
       "20331.1653721605"
      ],
      "text/latex": [
       "20331.1653721605"
      ],
      "text/markdown": [
       "20331.1653721605"
      ],
      "text/plain": [
       "[1] 20331.17"
      ]
     },
     "metadata": {},
     "output_type": "display_data"
    }
   ],
   "source": [
    "# Get years after policy change\n",
    "df.2 <- df[which(df$year >= 1999),]\n",
    "\n",
    "# Calculate total number of deaths in SP\n",
    "num.deaths.sp <- sum( (df.2$homicide.rates[which(df.2$abbreviation == \"SP\")])/100000 * (df.2$population.projection[which(df.2$abbreviation == \"SP\")]))\n",
    "\n",
    "# Calculate estimated number of deaths in Synthetic São Paulo\n",
    "num.deaths.synthetic.sp <- sum( (0.274 * (df.2$homicide.rates[which(df.2$abbreviation == \"SC\")])/100000 * (df.2$population.projection[which(df.2$abbreviation == \"SP\")]))\n",
    "                                + (0.210 * (df.2$homicide.rates[which(df.2$abbreviation == \"DF\")])/100000 * (df.2$population.projection[which(df.2$abbreviation == \"SP\")]))\n",
    "                                + (0.209 * (df.2$homicide.rates[which(df.2$abbreviation == \"ES\")])/100000 * (df.2$population.projection[which(df.2$abbreviation == \"SP\")]))\n",
    "                                + (0.169 * (df.2$homicide.rates[which(df.2$abbreviation == \"RJ\")])/100000 * (df.2$population.projection[which(df.2$abbreviation == \"SP\")]))\n",
    "                                + (0.137 * (df.2$homicide.rates[which(df.2$abbreviation == \"RR\")])/100000 * (df.2$population.projection[which(df.2$abbreviation == \"SP\")]))\n",
    "                                + (0.001 * (df.2$homicide.rates[which(df.2$abbreviation == \"PB\")])/100000 * (df.2$population.projection[which(df.2$abbreviation == \"SP\")]))\n",
    "                                )\n",
    "\n",
    "lives.saved <- num.deaths.synthetic.sp - num.deaths.sp\n",
    "lives.saved # Between 1999 and 2009"
   ]
  },
  {
   "attachments": {},
   "cell_type": "markdown",
   "metadata": {},
   "source": [
    "### Extention"
   ]
  },
  {
   "cell_type": "code",
   "execution_count": 18,
   "metadata": {
    "vscode": {
     "languageId": "r"
    }
   },
   "outputs": [
    {
     "data": {
      "image/png": "[encoded data removed]",
      "text/plain": [
       "plot without title"
      ]
     },
     "metadata": {
      "image/png": {
       "height": 420,
       "width": 420
      }
     },
     "output_type": "display_data"
    }
   ],
   "source": [
    "# Clear the workspace\n",
    "rm(list = ls())\n",
    "\n",
    "# Load data\n",
    "df <- read.csv(\"df.csv\", header = TRUE)\n",
    "\n",
    "# States to include\n",
    "states <- c(\"São Paulo\", \"Roraima\", \"Pernambuco\", \"Espirito Santo\", \"Rio de Janeiro\", \"Santa Catarina\", \"Distrito Federal\")\n",
    "\n",
    "# Generate vector of colors\n",
    "colors <- rainbow(length(states))\n",
    "\n",
    "# Plot: Homicide rates for all states\n",
    "plot(NA, xlim = c(1990, 2009), ylim = c(0, 60), xlab = \"Year\", ylab = \"Homicide Rates\")\n",
    "legend(\"topright\", legend = states, col = colors, lty = 1, cex = 1, bg = \"white\")\n",
    "\n",
    "for (i in 1:length(states)) {\n",
    "  state <- states[i]\n",
    "  x <- df$year[df$state == state]\n",
    "  y <- df$homicide.rates[df$state == state]\n",
    "  if (state == \"São Paulo\") {\n",
    "    lines(x, y, col = \"red\", cex = 3, lwd = 2)\n",
    "  } else {\n",
    "    lines(x, y, col = colors[i], lty = 2, cex = 3, lwd = 2)\n",
    "  }\n",
    "}\n",
    "\n",
    "arrows(1997, 50, 1999, 50,\n",
    "       col    = \"black\",\n",
    "       length = .1)\n",
    "\n",
    "text(1995, 50,\n",
    "     \"Policy Change\",\n",
    "     cex = .8)\n",
    "\n",
    "abline(v   = 1999,\n",
    "       lty = 2)\n"
   ]
  },
  {
   "cell_type": "code",
   "execution_count": 19,
   "metadata": {
    "vscode": {
     "languageId": "r"
    }
   },
   "outputs": [],
   "source": [
    "# States to include\n",
    "states <- c(\"São Paulo\", \"Roraima\", \"Pernambuco\", \"Espírito Santo\", \"Rio de Janeiro\", \"Santa Catarina\", \"Distrito Federal\")\n",
    "\n",
    "# Initialize data frame\n",
    "df_means <- data.frame(state = character(length(states)), \n",
    "                       pre_treatment = numeric(length(states)), \n",
    "                       post_treatment = numeric(length(states)),\n",
    "                       pre_and_post_treatment_diff = numeric(length(states)),\n",
    "                       difference_in_differences = numeric(length(states)))\n",
    "\n",
    "# Filter data by year and state\n",
    "df_sp_pre <- filter(df, year >= 1990 & year <= 1999 & state == \"São Paulo\")\n",
    "df_sp_post <- filter(df, year >= 1999 & year <= 2009 & state == \"São Paulo\")\n",
    "\n",
    "\n",
    "# Calculate mean homicide rate\n",
    "mean_sp_pre <- mean(df_sp_pre$homicide.rates)\n",
    "mean_sp_post <- mean(df_sp_post$homicide.rates)\n",
    "\n",
    "# Pre- and post-treatment difference for sp\n",
    "diff_sp <- mean_sp_post - mean_sp_pre\n",
    "\n",
    "# Loop over states\n",
    "for (i in seq_along(states)) {\n",
    "  # Filter data by year and state\n",
    "  df_pre <- filter(df, year >= 1990 & year <= 1999 & state == states[i])\n",
    "  df_post <- filter(df, year >= 1999 & year <= 2009 & state == states[i])\n",
    "  \n",
    "  # Calculate mean homicide rate\n",
    "  mean_pre <- mean(df_pre$homicide.rates)\n",
    "  mean_post <- mean(df_post$homicide.rates)\n",
    "\n",
    "  # Pre- and post-treatment difference for other\n",
    "  diff_other <- mean_post - mean_pre\n",
    "\n",
    "  # Difference in differences estimate\n",
    "  did <- diff_sp - diff_other\n",
    "\n",
    "  \n",
    "  # Store in data frame\n",
    "  df_means[i, \"state\"] <- states[i]\n",
    "  df_means[i, \"pre_treatment\"] <- mean_pre\n",
    "  df_means[i, \"post_treatment\"] <- mean_post\n",
    "  df_means[i, \"pre_and_post_treatment_diff\"] <- diff_other\n",
    "  df_means[i, \"difference_in_differences\"] <- did\n",
    "}\n"
   ]
  },
  {
   "cell_type": "code",
   "execution_count": 20,
   "metadata": {
    "vscode": {
     "languageId": "r"
    }
   },
   "outputs": [
    {
     "data": {
      "text/html": [
       "<table class=\"dataframe\">\n",
       "<caption>A data.frame: 7 × 4</caption>\n",
       "<thead>\n",
       "\t<tr><th scope=col>state</th><th scope=col>num_deaths</th><th scope=col>lives_saved</th><th scope=col>difference_in_differences</th></tr>\n",
       "\t<tr><th scope=col>&lt;chr&gt;</th><th scope=col>&lt;dbl&gt;</th><th scope=col>&lt;dbl&gt;</th><th scope=col>&lt;dbl&gt;</th></tr>\n",
       "</thead>\n",
       "<tbody>\n",
       "\t<tr><td>São Paulo       </td><td>124076.91</td><td>     0.00</td><td>  0.00000000</td></tr>\n",
       "\t<tr><td>Roraima         </td><td>136871.41</td><td> 12794.50</td><td>  5.46101113</td></tr>\n",
       "\t<tr><td>Pernambuco      </td><td>230209.29</td><td>106132.38</td><td>-15.16846502</td></tr>\n",
       "\t<tr><td>Espírito Santo  </td><td>223391.83</td><td> 99314.92</td><td>-12.73438051</td></tr>\n",
       "\t<tr><td>Rio de Janeiro  </td><td>199145.61</td><td> 75068.69</td><td> -0.02426829</td></tr>\n",
       "\t<tr><td>Santa Catarina  </td><td> 45942.08</td><td>-78134.83</td><td> -7.53887324</td></tr>\n",
       "\t<tr><td>Distrito Federal</td><td>155403.67</td><td> 31326.76</td><td> -5.36398281</td></tr>\n",
       "</tbody>\n",
       "</table>\n"
      ],
      "text/latex": [
       "A data.frame: 7 × 4\n",
       "\\begin{tabular}{llll}\n",
       " state & num\\_deaths & lives\\_saved & difference\\_in\\_differences\\\\\n",
       " <chr> & <dbl> & <dbl> & <dbl>\\\\\n",
       "\\hline\n",
       "\t São Paulo        & 124076.91 &      0.00 &   0.00000000\\\\\n",
       "\t Roraima          & 136871.41 &  12794.50 &   5.46101113\\\\\n",
       "\t Pernambuco       & 230209.29 & 106132.38 & -15.16846502\\\\\n",
       "\t Espírito Santo   & 223391.83 &  99314.92 & -12.73438051\\\\\n",
       "\t Rio de Janeiro   & 199145.61 &  75068.69 &  -0.02426829\\\\\n",
       "\t Santa Catarina   &  45942.08 & -78134.83 &  -7.53887324\\\\\n",
       "\t Distrito Federal & 155403.67 &  31326.76 &  -5.36398281\\\\\n",
       "\\end{tabular}\n"
      ],
      "text/markdown": [
       "\n",
       "A data.frame: 7 × 4\n",
       "\n",
       "| state &lt;chr&gt; | num_deaths &lt;dbl&gt; | lives_saved &lt;dbl&gt; | difference_in_differences &lt;dbl&gt; |\n",
       "|---|---|---|---|\n",
       "| São Paulo        | 124076.91 |      0.00 |   0.00000000 |\n",
       "| Roraima          | 136871.41 |  12794.50 |   5.46101113 |\n",
       "| Pernambuco       | 230209.29 | 106132.38 | -15.16846502 |\n",
       "| Espírito Santo   | 223391.83 |  99314.92 | -12.73438051 |\n",
       "| Rio de Janeiro   | 199145.61 |  75068.69 |  -0.02426829 |\n",
       "| Santa Catarina   |  45942.08 | -78134.83 |  -7.53887324 |\n",
       "| Distrito Federal | 155403.67 |  31326.76 |  -5.36398281 |\n",
       "\n"
      ],
      "text/plain": [
       "  state            num_deaths lives_saved difference_in_differences\n",
       "1 São Paulo        124076.91       0.00     0.00000000             \n",
       "2 Roraima          136871.41   12794.50     5.46101113             \n",
       "3 Pernambuco       230209.29  106132.38   -15.16846502             \n",
       "4 Espírito Santo   223391.83   99314.92   -12.73438051             \n",
       "5 Rio de Janeiro   199145.61   75068.69    -0.02426829             \n",
       "6 Santa Catarina    45942.08  -78134.83    -7.53887324             \n",
       "7 Distrito Federal 155403.67   31326.76    -5.36398281             "
      ]
     },
     "metadata": {},
     "output_type": "display_data"
    }
   ],
   "source": [
    "# Initialize data frame\n",
    "df_lives_saved <- data.frame(state = character(length(states)), \n",
    "                       num_deaths = numeric(length(states)), \n",
    "                       lives_saved = numeric(length(states))\n",
    "                       )\n",
    "\n",
    "# Get years after policy change\n",
    "df.2 <- df[which(df$year >= 1999),]\n",
    "\n",
    "# Calculate total number of deaths in SP\n",
    "num.deaths.sp <- sum( (df.2$homicide.rates[which(df.2$state == \"São Paulo\")])/100000 * (df.2$population.projection[which(df.2$state == \"São Paulo\")]))\n",
    "\n",
    "\n",
    "\n",
    "for (i in seq_along(states)) {\n",
    "\n",
    "    num.deaths.other <- sum( (df.2$homicide.rates[which(df.2$state == states[i])])/100000 * (df.2$population.projection[which(df.2$state == \"São Paulo\")]))\n",
    "\n",
    "    lives.saved <- num.deaths.other - num.deaths.sp\n",
    "  \n",
    "  \n",
    "  # Store in data frame\n",
    "  df_lives_saved[i, \"state\"] <- states[i]\n",
    "  df_lives_saved[i, \"num_deaths\"] <- num.deaths.other\n",
    "  df_lives_saved[i, \"lives_saved\"] <- lives.saved\n",
    "  df_lives_saved[i, \"difference_in_differences\"] <- df_means$difference_in_differences[i]\n",
    "}\n",
    "\n",
    "df_lives_saved"
   ]
  }
 ],
 "metadata": {
  "kernelspec": {
   "display_name": "R",
   "language": "R",
   "name": "ir"
  },
  "language_info": {
   "codemirror_mode": "r",
   "file_extension": ".r",
   "mimetype": "text/x-r-source",
   "name": "R",
   "pygments_lexer": "r",
   "version": "4.2.2"
  },
  "orig_nbformat": 4
 },
 "nbformat": 4,
 "nbformat_minor": 2
}
